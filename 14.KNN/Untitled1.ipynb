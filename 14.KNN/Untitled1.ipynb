{
 "cells": [
  {
   "cell_type": "code",
   "execution_count": 1,
   "metadata": {},
   "outputs": [],
   "source": [
    "from sklearn.datasets import make_blobs"
   ]
  },
  {
   "cell_type": "code",
   "execution_count": 4,
   "metadata": {},
   "outputs": [],
   "source": [
    "X,y = make_blobs(n_samples=100, n_features=2, centers=4, cluster_std=1.5,  random_state=4)"
   ]
  },
  {
   "cell_type": "code",
   "execution_count": 7,
   "metadata": {
    "collapsed": true
   },
   "outputs": [
    {
     "data": {
      "text/plain": [
       "array([[  2.93285385,  -8.62723217],\n",
       "       [  8.92629175,   2.13941283],\n",
       "       [  8.0371343 ,   4.71761689],\n",
       "       [  4.40892954,  -4.40262978],\n",
       "       [  7.68222071,   2.20139951],\n",
       "       [ 11.87913335,  -0.72457325],\n",
       "       [  9.34637193, -11.44263045],\n",
       "       [  7.62489892,   1.70952466],\n",
       "       [ 10.26860131,   0.81266459],\n",
       "       [ 12.67563711,   1.53608781],\n",
       "       [  4.07647215,  -6.03899635],\n",
       "       [  2.1434758 ,  -7.43064551],\n",
       "       [  4.56666374,  -3.07961233],\n",
       "       [  7.8661093 ,   1.02629409],\n",
       "       [ 10.21835548,   4.74698819],\n",
       "       [ 11.52356734,   4.21448182],\n",
       "       [ 11.36141513,   3.32485307],\n",
       "       [  8.28557731,   4.56543595],\n",
       "       [  9.83897183,  -0.77656997],\n",
       "       [  7.60537239,   1.47114071],\n",
       "       [  6.32288786,  -5.9889826 ],\n",
       "       [ 11.95135091,  -9.77343661],\n",
       "       [ 10.42560919,   1.01384833],\n",
       "       [  4.12695976,  -5.35965466],\n",
       "       [  8.43026586,   3.26511398],\n",
       "       [  5.88402429,   3.38479434],\n",
       "       [  5.51593604,  -6.29118556],\n",
       "       [ 11.79421809,  -1.0968034 ],\n",
       "       [  9.89939901,   2.85365467],\n",
       "       [  7.28171055, -10.91849026],\n",
       "       [  5.64713649,  -5.40696012],\n",
       "       [  9.10061966,  -9.80118008],\n",
       "       [  1.8302352 ,  -4.35836159],\n",
       "       [  7.00284548,  -5.03944002],\n",
       "       [ 11.82317539, -10.7657976 ],\n",
       "       [  9.41260615,  -2.59246547],\n",
       "       [ 10.75994987,   4.03350408],\n",
       "       [  2.67514957,  -7.33507201],\n",
       "       [  9.6913915 ,   7.2814444 ],\n",
       "       [  9.76765743,   3.7346525 ],\n",
       "       [  3.51793279,  -7.01467369],\n",
       "       [  7.31940634,   0.93060483],\n",
       "       [ 10.06644607, -12.14775134],\n",
       "       [ 10.56105787,   5.27244972],\n",
       "       [ 11.04283171, -10.18829612],\n",
       "       [  7.27038571,   5.13059771],\n",
       "       [  1.43012916,  -6.32903966],\n",
       "       [  7.80800437,   3.50402577],\n",
       "       [ 12.69909286, -10.23728291],\n",
       "       [  9.97820538,   1.4430247 ],\n",
       "       [  3.43040456,  -7.52791532],\n",
       "       [  9.58043618,  -0.86877726],\n",
       "       [ 12.83083512,  -8.2589434 ],\n",
       "       [ 13.16856344,   4.82483497],\n",
       "       [ 11.59694129, -12.83302451],\n",
       "       [ 10.8857351 ,   5.08119137],\n",
       "       [ 11.36930919,  -7.47557862],\n",
       "       [  7.84075206,   7.32992747],\n",
       "       [ 10.37579814,   4.10646698],\n",
       "       [  3.99967711,  -6.18247985],\n",
       "       [  3.83460726,  -4.70352458],\n",
       "       [  8.57470188, -10.43129818],\n",
       "       [  9.5548937 ,   3.19792282],\n",
       "       [  8.70995942,   4.03912296],\n",
       "       [  8.1348658 ,  -9.35978272],\n",
       "       [  5.03198808,  -4.90337064],\n",
       "       [  6.05649183,  -3.34430322],\n",
       "       [  9.13352103,  -8.56028117],\n",
       "       [  6.01646634,  -6.35477445],\n",
       "       [  4.01252931,  -6.3994838 ],\n",
       "       [ 10.5205002 ,  -1.81666882],\n",
       "       [ 10.85566229,   3.77716707],\n",
       "       [  8.36903663,   1.84250774],\n",
       "       [  2.93922507,  -7.36588197],\n",
       "       [  4.87487543,  -5.99344493],\n",
       "       [  4.96527873,  -4.13852764],\n",
       "       [ 10.64653812,   4.32495482],\n",
       "       [  8.88615083,   2.74764887],\n",
       "       [  9.52659171,   4.57928918],\n",
       "       [ 11.19996854,   4.66031011],\n",
       "       [  9.14453982,   2.1477749 ],\n",
       "       [  3.19200615,  -4.1692371 ],\n",
       "       [  9.2688166 ,  -9.59896776],\n",
       "       [ 12.47240308,   2.31690642],\n",
       "       [  8.92372387,  -8.53273833],\n",
       "       [  8.83017164, -10.37257373],\n",
       "       [  8.60637425,   1.9819263 ],\n",
       "       [  8.09552999,   4.94172687],\n",
       "       [  9.04547886,   2.19943804],\n",
       "       [  9.30761899,  -9.11328495],\n",
       "       [  9.39691801,   0.99853706],\n",
       "       [ 10.67164759, -10.3697447 ],\n",
       "       [  9.60825545, -12.03579221],\n",
       "       [  9.85886672,  -8.29499429],\n",
       "       [  9.14719283, -11.79851914],\n",
       "       [  8.81649487,  -9.73099298],\n",
       "       [  8.36375803,   1.75832195],\n",
       "       [  8.80117107, -11.35352259],\n",
       "       [  8.63991402, -11.90045448],\n",
       "       [  8.7131445 ,  -1.43222087]])"
      ]
     },
     "execution_count": 7,
     "metadata": {},
     "output_type": "execute_result"
    }
   ],
   "source": [
    "X"
   ]
  },
  {
   "cell_type": "code",
   "execution_count": 9,
   "metadata": {},
   "outputs": [],
   "source": [
    "from collections import Counter"
   ]
  },
  {
   "cell_type": "code",
   "execution_count": 10,
   "metadata": {},
   "outputs": [
    {
     "data": {
      "text/plain": [
       "Counter({2: 25, 0: 25, 1: 25, 3: 25})"
      ]
     },
     "execution_count": 10,
     "metadata": {},
     "output_type": "execute_result"
    }
   ],
   "source": [
    "Counter(y)"
   ]
  },
  {
   "cell_type": "code",
   "execution_count": 11,
   "metadata": {},
   "outputs": [
    {
     "data": {
      "text/plain": [
       "array([2, 0, 1, 2, 0, 0, 3, 0, 0, 0, 2, 2, 2, 0, 1, 1, 1, 1, 0, 0, 2, 3,\n",
       "       0, 2, 0, 1, 2, 0, 1, 3, 2, 3, 2, 2, 3, 0, 1, 2, 1, 1, 2, 0, 3, 1,\n",
       "       3, 1, 2, 1, 3, 0, 2, 0, 3, 1, 3, 1, 3, 1, 1, 2, 2, 3, 1, 1, 3, 2,\n",
       "       2, 3, 2, 2, 0, 1, 0, 2, 2, 2, 1, 0, 1, 1, 0, 2, 3, 0, 3, 3, 1, 1,\n",
       "       0, 3, 0, 3, 3, 3, 3, 3, 0, 3, 3, 0])"
      ]
     },
     "execution_count": 11,
     "metadata": {},
     "output_type": "execute_result"
    }
   ],
   "source": [
    "y"
   ]
  },
  {
   "cell_type": "code",
   "execution_count": 14,
   "metadata": {},
   "outputs": [],
   "source": [
    "from sklearn.model_selection import train_test_split"
   ]
  },
  {
   "cell_type": "code",
   "execution_count": 16,
   "metadata": {},
   "outputs": [],
   "source": [
    "X_train,X_test,y_train,y_test = train_test_split(X,y,random_state=0)"
   ]
  },
  {
   "cell_type": "code",
   "execution_count": 18,
   "metadata": {},
   "outputs": [
    {
     "data": {
      "text/plain": [
       "(75, 2)"
      ]
     },
     "execution_count": 18,
     "metadata": {},
     "output_type": "execute_result"
    }
   ],
   "source": [
    "X_train.shape"
   ]
  },
  {
   "cell_type": "code",
   "execution_count": 20,
   "metadata": {},
   "outputs": [
    {
     "data": {
      "text/plain": [
       "(75,)"
      ]
     },
     "execution_count": 20,
     "metadata": {},
     "output_type": "execute_result"
    }
   ],
   "source": [
    "y_train.shape"
   ]
  },
  {
   "cell_type": "code",
   "execution_count": 21,
   "metadata": {},
   "outputs": [],
   "source": [
    "from sklearn.neighbors import KNeighborsClassifier"
   ]
  },
  {
   "cell_type": "code",
   "execution_count": 24,
   "metadata": {},
   "outputs": [],
   "source": [
    "knn5 = KNeighborsClassifier(n_neighbors=5)"
   ]
  },
  {
   "cell_type": "code",
   "execution_count": 23,
   "metadata": {},
   "outputs": [
    {
     "data": {
      "text/plain": [
       "KNeighborsClassifier(algorithm='auto', leaf_size=30, metric='minkowski',\n",
       "                     metric_params=None, n_jobs=None, n_neighbors=5, p=2,\n",
       "                     weights='uniform')"
      ]
     },
     "execution_count": 23,
     "metadata": {},
     "output_type": "execute_result"
    }
   ],
   "source": [
    "knn5"
   ]
  },
  {
   "cell_type": "code",
   "execution_count": 25,
   "metadata": {},
   "outputs": [
    {
     "data": {
      "text/plain": [
       "KNeighborsClassifier(algorithm='auto', leaf_size=30, metric='minkowski',\n",
       "                     metric_params=None, n_jobs=None, n_neighbors=5, p=2,\n",
       "                     weights='uniform')"
      ]
     },
     "execution_count": 25,
     "metadata": {},
     "output_type": "execute_result"
    }
   ],
   "source": [
    "knn5.fit(X_train,y_train)"
   ]
  },
  {
   "cell_type": "code",
   "execution_count": 26,
   "metadata": {},
   "outputs": [
    {
     "data": {
      "text/plain": [
       "array([2, 0, 1, 1, 2, 3, 1, 2, 3, 3, 1, 3, 1, 0, 0, 2, 0, 0, 2, 0, 1, 0,\n",
       "       2, 1, 1])"
      ]
     },
     "execution_count": 26,
     "metadata": {},
     "output_type": "execute_result"
    }
   ],
   "source": [
    "knn5.predict(X_test)"
   ]
  },
  {
   "cell_type": "code",
   "execution_count": 31,
   "metadata": {
    "collapsed": true
   },
   "outputs": [
    {
     "data": {
      "text/plain": [
       "array([[  2.93285385,  -8.62723217],\n",
       "       [  8.92629175,   2.13941283],\n",
       "       [  8.0371343 ,   4.71761689],\n",
       "       [  4.40892954,  -4.40262978],\n",
       "       [  7.68222071,   2.20139951],\n",
       "       [ 11.87913335,  -0.72457325],\n",
       "       [  9.34637193, -11.44263045],\n",
       "       [  7.62489892,   1.70952466],\n",
       "       [ 10.26860131,   0.81266459],\n",
       "       [ 12.67563711,   1.53608781],\n",
       "       [  4.07647215,  -6.03899635],\n",
       "       [  2.1434758 ,  -7.43064551],\n",
       "       [  4.56666374,  -3.07961233],\n",
       "       [  7.8661093 ,   1.02629409],\n",
       "       [ 10.21835548,   4.74698819],\n",
       "       [ 11.52356734,   4.21448182],\n",
       "       [ 11.36141513,   3.32485307],\n",
       "       [  8.28557731,   4.56543595],\n",
       "       [  9.83897183,  -0.77656997],\n",
       "       [  7.60537239,   1.47114071],\n",
       "       [  6.32288786,  -5.9889826 ],\n",
       "       [ 11.95135091,  -9.77343661],\n",
       "       [ 10.42560919,   1.01384833],\n",
       "       [  4.12695976,  -5.35965466],\n",
       "       [  8.43026586,   3.26511398],\n",
       "       [  5.88402429,   3.38479434],\n",
       "       [  5.51593604,  -6.29118556],\n",
       "       [ 11.79421809,  -1.0968034 ],\n",
       "       [  9.89939901,   2.85365467],\n",
       "       [  7.28171055, -10.91849026],\n",
       "       [  5.64713649,  -5.40696012],\n",
       "       [  9.10061966,  -9.80118008],\n",
       "       [  1.8302352 ,  -4.35836159],\n",
       "       [  7.00284548,  -5.03944002],\n",
       "       [ 11.82317539, -10.7657976 ],\n",
       "       [  9.41260615,  -2.59246547],\n",
       "       [ 10.75994987,   4.03350408],\n",
       "       [  2.67514957,  -7.33507201],\n",
       "       [  9.6913915 ,   7.2814444 ],\n",
       "       [  9.76765743,   3.7346525 ],\n",
       "       [  3.51793279,  -7.01467369],\n",
       "       [  7.31940634,   0.93060483],\n",
       "       [ 10.06644607, -12.14775134],\n",
       "       [ 10.56105787,   5.27244972],\n",
       "       [ 11.04283171, -10.18829612],\n",
       "       [  7.27038571,   5.13059771],\n",
       "       [  1.43012916,  -6.32903966],\n",
       "       [  7.80800437,   3.50402577],\n",
       "       [ 12.69909286, -10.23728291],\n",
       "       [  9.97820538,   1.4430247 ],\n",
       "       [  3.43040456,  -7.52791532],\n",
       "       [  9.58043618,  -0.86877726],\n",
       "       [ 12.83083512,  -8.2589434 ],\n",
       "       [ 13.16856344,   4.82483497],\n",
       "       [ 11.59694129, -12.83302451],\n",
       "       [ 10.8857351 ,   5.08119137],\n",
       "       [ 11.36930919,  -7.47557862],\n",
       "       [  7.84075206,   7.32992747],\n",
       "       [ 10.37579814,   4.10646698],\n",
       "       [  3.99967711,  -6.18247985],\n",
       "       [  3.83460726,  -4.70352458],\n",
       "       [  8.57470188, -10.43129818],\n",
       "       [  9.5548937 ,   3.19792282],\n",
       "       [  8.70995942,   4.03912296],\n",
       "       [  8.1348658 ,  -9.35978272],\n",
       "       [  5.03198808,  -4.90337064],\n",
       "       [  6.05649183,  -3.34430322],\n",
       "       [  9.13352103,  -8.56028117],\n",
       "       [  6.01646634,  -6.35477445],\n",
       "       [  4.01252931,  -6.3994838 ],\n",
       "       [ 10.5205002 ,  -1.81666882],\n",
       "       [ 10.85566229,   3.77716707],\n",
       "       [  8.36903663,   1.84250774],\n",
       "       [  2.93922507,  -7.36588197],\n",
       "       [  4.87487543,  -5.99344493],\n",
       "       [  4.96527873,  -4.13852764],\n",
       "       [ 10.64653812,   4.32495482],\n",
       "       [  8.88615083,   2.74764887],\n",
       "       [  9.52659171,   4.57928918],\n",
       "       [ 11.19996854,   4.66031011],\n",
       "       [  9.14453982,   2.1477749 ],\n",
       "       [  3.19200615,  -4.1692371 ],\n",
       "       [  9.2688166 ,  -9.59896776],\n",
       "       [ 12.47240308,   2.31690642],\n",
       "       [  8.92372387,  -8.53273833],\n",
       "       [  8.83017164, -10.37257373],\n",
       "       [  8.60637425,   1.9819263 ],\n",
       "       [  8.09552999,   4.94172687],\n",
       "       [  9.04547886,   2.19943804],\n",
       "       [  9.30761899,  -9.11328495],\n",
       "       [  9.39691801,   0.99853706],\n",
       "       [ 10.67164759, -10.3697447 ],\n",
       "       [  9.60825545, -12.03579221],\n",
       "       [  9.85886672,  -8.29499429],\n",
       "       [  9.14719283, -11.79851914],\n",
       "       [  8.81649487,  -9.73099298],\n",
       "       [  8.36375803,   1.75832195],\n",
       "       [  8.80117107, -11.35352259],\n",
       "       [  8.63991402, -11.90045448],\n",
       "       [  8.7131445 ,  -1.43222087]])"
      ]
     },
     "execution_count": 31,
     "metadata": {},
     "output_type": "execute_result"
    }
   ],
   "source": [
    "X\n",
    "              0             1\n",
    "       [ 2.93285385,  -8.62723217],\n",
    "       [  8.92629175,   2.13941283],\n",
    "       [  8.0371343 ,   4.717"
   ]
  },
  {
   "cell_type": "code",
   "execution_count": 28,
   "metadata": {},
   "outputs": [],
   "source": [
    "import matplotlib.pyplot as plt"
   ]
  },
  {
   "cell_type": "code",
   "execution_count": 32,
   "metadata": {
    "collapsed": true
   },
   "outputs": [
    {
     "data": {
      "text/plain": [
       "<matplotlib.collections.PathCollection at 0x285716a3e48>"
      ]
     },
     "execution_count": 32,
     "metadata": {},
     "output_type": "execute_result"
    },
    {
     "data": {
      "image/png": "[encoded data removed]",
      "text/plain": [
       "<Figure size 432x288 with 1 Axes>"
      ]
     },
     "metadata": {
      "needs_background": "light"
     },
     "output_type": "display_data"
    }
   ],
   "source": [
    "plt.scatter(X[:,0],X[:,1],c=y)\n",
    "\n",
    "X y "
   ]
  },
  {
   "cell_type": "code",
   "execution_count": 33,
   "metadata": {},
   "outputs": [
    {
     "data": {
      "text/plain": [
       "array([2, 0, 1, 2, 0, 0, 3, 0, 0, 0, 2, 2, 2, 0, 1, 1, 1, 1, 0, 0, 2, 3,\n",
       "       0, 2, 0, 1, 2, 0, 1, 3, 2, 3, 2, 2, 3, 0, 1, 2, 1, 1, 2, 0, 3, 1,\n",
       "       3, 1, 2, 1, 3, 0, 2, 0, 3, 1, 3, 1, 3, 1, 1, 2, 2, 3, 1, 1, 3, 2,\n",
       "       2, 3, 2, 2, 0, 1, 0, 2, 2, 2, 1, 0, 1, 1, 0, 2, 3, 0, 3, 3, 1, 1,\n",
       "       0, 3, 0, 3, 3, 3, 3, 3, 0, 3, 3, 0])"
      ]
     },
     "execution_count": 33,
     "metadata": {},
     "output_type": "execute_result"
    }
   ],
   "source": [
    "y"
   ]
  },
  {
   "cell_type": "code",
   "execution_count": 37,
   "metadata": {},
   "outputs": [],
   "source": [
    "#X_test\n",
    "y_pred = knn5.predict(X_test)"
   ]
  },
  {
   "cell_type": "code",
   "execution_count": 39,
   "metadata": {},
   "outputs": [
    {
     "data": {
      "text/plain": [
       "<matplotlib.collections.PathCollection at 0x285708fb808>"
      ]
     },
     "execution_count": 39,
     "metadata": {},
     "output_type": "execute_result"
    },
    {
     "data": {
      "image/png": "[encoded data removed]",
      "text/plain": [
       "<Figure size 432x288 with 1 Axes>"
      ]
     },
     "metadata": {
      "needs_background": "light"
     },
     "output_type": "display_data"
    }
   ],
   "source": [
    "plt.scatter(X_test[:,0],X_test[:,1],c=y_pred)"
   ]
  },
  {
   "cell_type": "code",
   "execution_count": 40,
   "metadata": {
    "collapsed": true
   },
   "outputs": [
    {
     "data": {
      "text/plain": [
       "array([[  5.51593604,  -6.29118556],\n",
       "       [  8.60637425,   1.9819263 ],\n",
       "       [  8.0371343 ,   4.71761689],\n",
       "       [ 10.8857351 ,   5.08119137],\n",
       "       [  4.96527873,  -4.13852764],\n",
       "       [  9.85886672,  -8.29499429],\n",
       "       [ 11.36141513,   3.32485307],\n",
       "       [  2.93922507,  -7.36588197],\n",
       "       [ 11.59694129, -12.83302451],\n",
       "       [  8.81649487,  -9.73099298],\n",
       "       [ 13.16856344,   4.82483497],\n",
       "       [  9.60825545, -12.03579221],\n",
       "       [  9.52659171,   4.57928918],\n",
       "       [  7.8661093 ,   1.02629409],\n",
       "       [  7.62489892,   1.70952466],\n",
       "       [  5.64713649,  -5.40696012],\n",
       "       [ 10.42560919,   1.01384833],\n",
       "       [  8.43026586,   3.26511398],\n",
       "       [  7.00284548,  -5.03944002],\n",
       "       [ 10.26860131,   0.81266459],\n",
       "       [ 10.56105787,   5.27244972],\n",
       "       [  9.5548937 ,   3.19792282],\n",
       "       [  4.40892954,  -4.40262978],\n",
       "       [ 10.85566229,   3.77716707],\n",
       "       [  7.27038571,   5.13059771]])"
      ]
     },
     "execution_count": 40,
     "metadata": {},
     "output_type": "execute_result"
    }
   ],
   "source": [
    "X_test"
   ]
  },
  {
   "cell_type": "code",
   "execution_count": 43,
   "metadata": {},
   "outputs": [],
   "source": [
    "from sklearn.metrics import accuracy_score"
   ]
  },
  {
   "cell_type": "code",
   "execution_count": 44,
   "metadata": {},
   "outputs": [
    {
     "data": {
      "text/plain": [
       "0.92"
      ]
     },
     "execution_count": 44,
     "metadata": {},
     "output_type": "execute_result"
    }
   ],
   "source": [
    "accuracy_score(y_test,y_pred)"
   ]
  },
  {
   "cell_type": "code",
   "execution_count": null,
   "metadata": {},
   "outputs": [],
   "source": []
  }
 ],
 "metadata": {
  "kernelspec": {
   "display_name": "Python 3",
   "language": "python",
   "name": "python3"
  },
  "language_info": {
   "codemirror_mode": {
    "name": "ipython",
    "version": 3
   },
   "file_extension": ".py",
   "mimetype": "text/x-python",
   "name": "python",
   "nbconvert_exporter": "python",
   "pygments_lexer": "ipython3",
   "version": "3.7.6"
  }
 },
 "nbformat": 4,
 "nbformat_minor": 4
}
