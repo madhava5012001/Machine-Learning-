{
 "cells": [
  {
   "cell_type": "markdown",
   "metadata": {},
   "source": [
    "# KNN ALGORITHM"
   ]
  },
  {
   "cell_type": "raw",
   "metadata": {},
   "source": [
    "The value of a data point is determined by the data points around it"
   ]
  },
  {
   "cell_type": "raw",
   "metadata": {},
   "source": [
    "K = 1\n",
    "If you have one very close friend and spend most of your time with him/her, \n",
    "you will end up sharing similar interests and enjoying same things. That is kNN with k=1"
   ]
  },
  {
   "cell_type": "raw",
   "metadata": {},
   "source": [
    "K = 5\n",
    "If you always hang out with a group of 5, each one in the group has an effect on your behavior\n",
    "and you will end up being the average of 5. That is kNN with k=5."
   ]
  },
  {
   "cell_type": "raw",
   "metadata": {},
   "source": [
    "kNN classifier determines the class of a data point by majority voting principle. If k is set to 5, the classes of 5 \n",
    "closest points are checked. Prediction is done according to the majority class"
   ]
  },
  {
   "cell_type": "code",
   "execution_count": 1,
   "metadata": {},
   "outputs": [],
   "source": [
    "import numpy as np\n",
    "import pandas as pd\n",
    "\n",
    "import matplotlib.pyplot as plt #data visualization\n",
    "\n",
    "from sklearn.datasets import make_blobs #synthetic dataset\n",
    "from sklearn.neighbors import KNeighborsClassifier #kNN classifier\n",
    "from sklearn.model_selection import train_test_split #train and test sets"
   ]
  },
  {
   "cell_type": "code",
   "execution_count": 2,
   "metadata": {
    "collapsed": true
   },
   "outputs": [
    {
     "data": {
      "text/plain": [
       "<function sklearn.datasets._samples_generator.make_blobs(n_samples=100, n_features=2, *, centers=None, cluster_std=1.0, center_box=(-10.0, 10.0), shuffle=True, random_state=None, return_centers=False)>"
      ]
     },
     "execution_count": 2,
     "metadata": {},
     "output_type": "execute_result"
    }
   ],
   "source": [
    "make_blobs"
   ]
  },
  {
   "cell_type": "raw",
   "metadata": {},
   "source": [
    "Scikit-learn provides many useful functions to create synthetic datasets which are \n",
    "very helpful for practicing machine learning algorithms.\n",
    "I will use make_blobs function."
   ]
  },
  {
   "cell_type": "code",
   "execution_count": 16,
   "metadata": {},
   "outputs": [],
   "source": [
    "#create synthetic dataset\n",
    "X, y = make_blobs(n_samples = 100, n_features = 2, centers = 4,\n",
    "                        random_state = 4)"
   ]
  },
  {
   "cell_type": "code",
   "execution_count": 22,
   "metadata": {
    "collapsed": true
   },
   "outputs": [
    {
     "data": {
      "text/plain": [
       "array([[  3.27342806,  -7.64422481],\n",
       "       [  9.06439343,   1.74115688],\n",
       "       [  8.5093186 ,   4.57718455],\n",
       "       [  4.25747853,  -4.82782322],\n",
       "       [  8.23501274,   1.78248134],\n",
       "       [ 11.0329545 ,  -0.16816717],\n",
       "       [  9.40607765, -10.9202186 ],\n",
       "       [  8.19679821,   1.45456477],\n",
       "       [  9.95926647,   0.85665806],\n",
       "       [ 11.563957  ,   1.3389402 ],\n",
       "       [  4.03584026,  -5.91873427],\n",
       "       [  2.74717603,  -6.84650037],\n",
       "       [  4.36263466,  -3.94581158],\n",
       "       [  8.35760513,   0.99907772],\n",
       "       [  9.96346605,   4.59676542],\n",
       "       [ 10.8336073 ,   4.24176117],\n",
       "       [ 10.72550582,   3.64867534],\n",
       "       [  8.67494727,   4.47573059],\n",
       "       [  9.67284681,  -0.20283165],\n",
       "       [  8.18378052,   1.29564214],\n",
       "       [  5.53345074,  -5.88539177],\n",
       "       [ 11.14273031,  -9.8074227 ],\n",
       "       [ 10.06393839,   0.99078055],\n",
       "       [  4.06949867,  -5.4658398 ],\n",
       "       [  8.7337095 ,   2.49162431],\n",
       "       [  7.07391193,   3.68863618],\n",
       "       [  4.99548286,  -6.0868604 ],\n",
       "       [ 10.97634432,  -0.41632061],\n",
       "       [  9.75082841,   3.33454307],\n",
       "       [  8.02963673, -10.5707918 ],\n",
       "       [  5.08294982,  -5.49737678],\n",
       "       [  9.2422428 ,  -9.82591835],\n",
       "       [  2.53834896,  -4.79831109],\n",
       "       [  5.98675582,  -5.25236338],\n",
       "       [ 11.05727996, -10.4689967 ],\n",
       "       [  9.38860303,  -1.41342865],\n",
       "       [ 10.32452898,   4.12110935],\n",
       "       [  3.10162521,  -6.7827847 ],\n",
       "       [  9.61215674,   6.28640289],\n",
       "       [  9.66300069,   3.92187496],\n",
       "       [  3.66348069,  -6.56918582],\n",
       "       [  7.99313649,   0.93528488],\n",
       "       [  9.88612708, -11.3902992 ],\n",
       "       [ 10.19193431,   4.9470731 ],\n",
       "       [ 10.53705084, -10.08399571],\n",
       "       [  7.99815287,   4.8525051 ],\n",
       "       [  2.2716116 ,  -6.11209647],\n",
       "       [  8.35656532,   3.7681238 ],\n",
       "       [ 11.64122494, -10.11665357],\n",
       "       [  9.76566918,   1.27689813],\n",
       "       [  3.60512853,  -6.91134691],\n",
       "       [  9.50048972,  -0.26430318],\n",
       "       [ 11.72905311,  -8.79776057],\n",
       "       [ 11.93027136,   4.64866327],\n",
       "       [ 10.90645723, -11.84714797],\n",
       "       [ 10.4083858 ,   4.81956754],\n",
       "       [ 10.75470249,  -8.27551738],\n",
       "       [  8.37839711,   6.31872494],\n",
       "       [ 10.06842783,   4.16975128],\n",
       "       [  3.98464357,  -6.01438993],\n",
       "       [  3.874597  ,  -5.02841975],\n",
       "       [  8.89163095, -10.24599709],\n",
       "       [  9.5211582 ,   3.56405517],\n",
       "       [  8.95786868,   4.12485526],\n",
       "       [  8.5984069 ,  -9.53165345],\n",
       "       [  4.67285088,  -5.16165046],\n",
       "       [  5.35585339,  -4.12227217],\n",
       "       [  9.26417705,  -8.99865241],\n",
       "       [  5.32916972,  -6.129253  ],\n",
       "       [  3.9932117 ,  -6.15905923],\n",
       "       [ 10.12719906,  -0.89623088],\n",
       "       [ 10.38833726,   3.950218  ],\n",
       "       [  8.69289001,   1.54322016],\n",
       "       [  3.27767555,  -6.80332468],\n",
       "       [  4.56810912,  -5.88836665],\n",
       "       [  4.62837798,  -4.65175512],\n",
       "       [ 10.24892115,   4.31540984],\n",
       "       [  9.03763281,   2.14664757],\n",
       "       [  9.50229021,   4.48496608],\n",
       "       [ 10.61787476,   4.53898003],\n",
       "       [  9.20989214,   1.7467316 ],\n",
       "       [  3.44619626,  -4.6722281 ],\n",
       "       [  9.3543741 ,  -9.69111014],\n",
       "       [ 11.42846765,   1.85948594],\n",
       "       [  9.12431228,  -8.98029052],\n",
       "       [  9.06194412, -10.20684745],\n",
       "       [  8.8888119 ,   2.75339082],\n",
       "       [  8.54824906,   4.7265912 ],\n",
       "       [  9.1438515 ,   1.78117369],\n",
       "       [  9.38024236,  -9.3673216 ],\n",
       "       [  9.37814427,   0.98057303],\n",
       "       [ 10.28959476, -10.20496143],\n",
       "       [  9.58066667, -11.31565977],\n",
       "       [  9.74774084,  -8.82179449],\n",
       "       [  9.27329159, -11.15747772],\n",
       "       [  9.05282628,  -9.77912695],\n",
       "       [  8.68937095,   1.48709629],\n",
       "       [  9.04261041, -10.86081336],\n",
       "       [  8.93510571, -11.22543462],\n",
       "       [  8.92229526,  -0.63993225]])"
      ]
     },
     "execution_count": 22,
     "metadata": {},
     "output_type": "execute_result"
    }
   ],
   "source": [
    "X"
   ]
  },
  {
   "cell_type": "code",
   "execution_count": 18,
   "metadata": {},
   "outputs": [],
   "source": [
    "from collections import Counter"
   ]
  },
  {
   "cell_type": "code",
   "execution_count": 19,
   "metadata": {},
   "outputs": [
    {
     "data": {
      "text/plain": [
       "Counter({2: 25, 0: 25, 1: 25, 3: 25})"
      ]
     },
     "execution_count": 19,
     "metadata": {},
     "output_type": "execute_result"
    }
   ],
   "source": [
    "Counter(y)"
   ]
  },
  {
   "cell_type": "raw",
   "metadata": {},
   "source": [
    "This code creates a dataset with 100 samples divided into 4 classes and the number of features is 2.\n",
    "Number of samples, features and classes can easily be adjusted using related parameters.\n",
    "We can also adjust how much each cluster (or class) is spread.\n",
    "Let’s visualize this synthetic data set:"
   ]
  },
  {
   "cell_type": "code",
   "execution_count": 21,
   "metadata": {
    "collapsed": true
   },
   "outputs": [
    {
     "data": {
      "image/png": "[encoded data removed]",
      "text/plain": [
       "<Figure size 432x288 with 1 Axes>"
      ]
     },
     "metadata": {
      "needs_background": "light"
     },
     "output_type": "display_data"
    }
   ],
   "source": [
    "plt.scatter(X[:,0], X[:,1], c=y, marker= 'o', s=100)\n",
    "plt.show()"
   ]
  },
  {
   "cell_type": "markdown",
   "metadata": {},
   "source": [
    "# TRAIN TEST SPLIT"
   ]
  },
  {
   "cell_type": "raw",
   "metadata": {},
   "source": [
    "We can specify how much of the original data is used for train or test sets using train_size or\n",
    "test_size parameters, respectively. Default separation \n",
    "is 75% for train set and 25% for test set."
   ]
  },
  {
   "cell_type": "code",
   "execution_count": 66,
   "metadata": {},
   "outputs": [],
   "source": [
    "X_train, X_test, y_train, y_test = train_test_split(X, y, random_state = 0)"
   ]
  },
  {
   "cell_type": "markdown",
   "metadata": {},
   "source": [
    "# CREATE KNN MODEL ( K = 1) ( K=5)"
   ]
  },
  {
   "cell_type": "raw",
   "metadata": {},
   "source": [
    "Then we create a kNN classifier object. To show the difference between the importance of k value,\n",
    "I create two classifiers with k values 1 and 5. Then these models are trained using train set. \n",
    "n_neighbors parameter is used to select k value. Default value is \n",
    "5 so it does not have to be explicitly written."
   ]
  },
  {
   "cell_type": "code",
   "execution_count": 69,
   "metadata": {},
   "outputs": [],
   "source": [
    "#knn5 = KNeighborsClassifier() #k=5\n",
    "knn1 = KNeighborsClassifier(n_neighbors=1) #k=1"
   ]
  },
  {
   "cell_type": "markdown",
   "metadata": {},
   "source": [
    "# FIT X_train and y_train in KNN MODEL"
   ]
  },
  {
   "cell_type": "code",
   "execution_count": 70,
   "metadata": {
    "collapsed": true
   },
   "outputs": [
    {
     "data": {
      "text/plain": [
       "KNeighborsClassifier(algorithm='auto', leaf_size=30, metric='minkowski',\n",
       "                     metric_params=None, n_jobs=None, n_neighbors=1, p=2,\n",
       "                     weights='uniform')"
      ]
     },
     "execution_count": 70,
     "metadata": {},
     "output_type": "execute_result"
    }
   ],
   "source": [
    "#knn5.fit(X_train, y_train)\n",
    "knn1.fit(X_train, y_train)"
   ]
  },
  {
   "cell_type": "markdown",
   "metadata": {},
   "source": [
    "# PREDICT THE TARGET VALUES"
   ]
  },
  {
   "cell_type": "raw",
   "metadata": {},
   "source": [
    "Then we predict the target values in the test set and compare with actual values."
   ]
  },
  {
   "cell_type": "code",
   "execution_count": 71,
   "metadata": {},
   "outputs": [],
   "source": [
    "#y_pred_5 = knn5.predict(X_test)\n",
    "y_pred_1 = knn1.predict(X_test)"
   ]
  },
  {
   "cell_type": "markdown",
   "metadata": {},
   "source": [
    "# FINDING ACCURACY "
   ]
  },
  {
   "cell_type": "code",
   "execution_count": 72,
   "metadata": {},
   "outputs": [
    {
     "name": "stdout",
     "output_type": "stream",
     "text": [
      "Accuracy of kNN with k=5 0.92\n",
      "Accuracy of kNN with k=1 0.92\n"
     ]
    }
   ],
   "source": [
    "from sklearn.metrics import accuracy_score\n",
    "#print(\"Accuracy of kNN with k=5\", accuracy_score(y_test, y_pred_5))\n",
    "print(\"Accuracy of kNN with k=1\", accuracy_score(y_test, y_pred_1))"
   ]
  },
  {
   "cell_type": "markdown",
   "metadata": {},
   "source": [
    "# PASS THE TEST DATA TO THE CREATED MODEL"
   ]
  },
  {
   "cell_type": "raw",
   "metadata": {},
   "source": [
    "In order to see the effect of k values,\n",
    "let’s visualize test set and predicted values with k=5 and k=1"
   ]
  },
  {
   "cell_type": "code",
   "execution_count": 73,
   "metadata": {},
   "outputs": [
    {
     "data": {
      "image/png": "[encoded data removed]",
      "text/plain": [
       "<Figure size 720x432 with 1 Axes>"
      ]
     },
     "metadata": {
      "needs_background": "light"
     },
     "output_type": "display_data"
    }
   ],
   "source": [
    "plt.figure(figsize = (10,6))\n",
    "plt.scatter(X_test[:,0], X_test[:,1], c=y_test, marker= 'o', s=50)\n",
    "plt.title(\"Original data\", fontsize=20)\n",
    "plt.show()"
   ]
  },
  {
   "cell_type": "code",
   "execution_count": 74,
   "metadata": {},
   "outputs": [
    {
     "data": {
      "image/png": "[encoded data removed]",
      "text/plain": [
       "<Figure size 720x432 with 1 Axes>"
      ]
     },
     "metadata": {
      "needs_background": "light"
     },
     "output_type": "display_data"
    }
   ],
   "source": [
    "plt.figure(figsize = (10,6))\n",
    "plt.scatter(X_test[:,0], X_test[:,1], c=y_pred_5, marker= 'o', s=50)\n",
    "plt.title(\"Predicted values with k=5\", fontsize=20)\n",
    "plt.show()"
   ]
  },
  {
   "cell_type": "code",
   "execution_count": 75,
   "metadata": {},
   "outputs": [
    {
     "data": {
      "image/png": "[encoded data removed]",
      "text/plain": [
       "<Figure size 720x432 with 1 Axes>"
      ]
     },
     "metadata": {
      "needs_background": "light"
     },
     "output_type": "display_data"
    }
   ],
   "source": [
    "plt.figure(figsize = (10,6))\n",
    "plt.scatter(X_test[:,0], X_test[:,1], c=y_pred_5, marker= 'o', s=50)\n",
    "plt.title(\"Predicted values with k=5\", fontsize=20)\n",
    "plt.show()"
   ]
  },
  {
   "cell_type": "markdown",
   "metadata": {},
   "source": [
    "# CONCLUSION"
   ]
  },
  {
   "cell_type": "raw",
   "metadata": {},
   "source": [
    "The result seems to be very similar because we used a substantially \n",
    "small dataset. However, even on small datasets, \n",
    "different k values predict some points differently"
   ]
  },
  {
   "cell_type": "markdown",
   "metadata": {},
   "source": [
    "# ADVANTAGE OF KNN"
   ]
  },
  {
   "cell_type": "raw",
   "metadata": {},
   "source": [
    "Simple and easy to interpret\n",
    "Does not make any assumption so it can be implemented in non-linear tasks.\n",
    "Works well on classification with multiple classes\n",
    "Works on both classification and regression tasks"
   ]
  },
  {
   "cell_type": "markdown",
   "metadata": {},
   "source": [
    "# DISADVANTAGE OF KNN"
   ]
  },
  {
   "cell_type": "raw",
   "metadata": {},
   "source": [
    "Becomes very slow as the number of data points increases because the model needs to store all data points.\n",
    "Not memory efficient\n",
    "Sensitive to outliers. Outliers also have a vote!"
   ]
  }
 ],
 "metadata": {
  "kernelspec": {
   "display_name": "Python 3",
   "language": "python",
   "name": "python3"
  },
  "language_info": {
   "codemirror_mode": {
    "name": "ipython",
    "version": 3
   },
   "file_extension": ".py",
   "mimetype": "text/x-python",
   "name": "python",
   "nbconvert_exporter": "python",
   "pygments_lexer": "ipython3",
   "version": "3.8.3"
  }
 },
 "nbformat": 4,
 "nbformat_minor": 4
}
